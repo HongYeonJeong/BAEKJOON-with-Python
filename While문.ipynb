{
  "nbformat": 4,
  "nbformat_minor": 0,
  "metadata": {
    "colab": {
      "name": "While문.ipynb",
      "provenance": [],
      "collapsed_sections": [],
      "authorship_tag": "ABX9TyN/d7ltroabxOgKZAIyRVwf",
      "include_colab_link": true
    },
    "kernelspec": {
      "name": "python3",
      "display_name": "Python 3"
    },
    "language_info": {
      "name": "python"
    }
  },
  "cells": [
    {
      "cell_type": "markdown",
      "metadata": {
        "id": "view-in-github",
        "colab_type": "text"
      },
      "source": [
        "<a href=\"https://colab.research.google.com/github/claire-yeonjeong/BAEKJOON-WITH-Python/blob/main/While%EB%AC%B8.ipynb\" target=\"_parent\"><img src=\"https://colab.research.google.com/assets/colab-badge.svg\" alt=\"Open In Colab\"/></a>"
      ]
    },
    {
      "cell_type": "markdown",
      "metadata": {
        "id": "6gX5bL2QHoIy"
      },
      "source": [
        "**10952번 A+B -5**\n",
        "\n",
        "두 정수 A와 B를 입력받은 다음, A+B를 출력하는 프로그램을 작성하시오.\n",
        "입력은 여러 개의 테스트 케이스로 이루어져 있다.\n",
        "\n",
        "각 테스트 케이스는 한 줄로 이루어져 있으며, 각 줄에 A와 B가 주어진다. (0 < A, B < 10)\n",
        "\n",
        "입력의 마지막에는 0 두 개가 들어온다."
      ]
    },
    {
      "cell_type": "code",
      "metadata": {
        "colab": {
          "base_uri": "https://localhost:8080/"
        },
        "id": "DWHL43FuIpsj",
        "outputId": "f31fb416-a9a7-479e-f2e8-9e9a5cd6c3bb"
      },
      "source": [
        "while True:\n",
        "    a, b = map(int, input().split())\n",
        "    if a==0 and b==0:\n",
        "        break\n",
        "    print(a+b)"
      ],
      "execution_count": null,
      "outputs": [
        {
          "output_type": "stream",
          "text": [
            "3 4\n",
            "7\n",
            "1 2\n",
            "3\n",
            "0 0\n"
          ],
          "name": "stdout"
        }
      ]
    },
    {
      "cell_type": "markdown",
      "metadata": {
        "id": "4Q-K8fsPI24_"
      },
      "source": [
        "**10951번 A+B -4**\n",
        "\n",
        "두 정수 A와 B를 입력받은 다음, A+B를 출력하는 프로그램을 작성하시오.\n",
        "입력은 여러 개의 테스트 케이스로 이루어져 있다.\n",
        "각 테스트 케이스는 한 줄로 이루어져 있으며, 각 줄에 A와 B가 주어진다. (0 < A, B < 10)"
      ]
    },
    {
      "cell_type": "code",
      "metadata": {
        "colab": {
          "base_uri": "https://localhost:8080/"
        },
        "id": "VuEdbnY8I_dR",
        "outputId": "7ff48dab-1ba8-4560-e3d9-a474e82d48c4"
      },
      "source": [
        "while True:\n",
        "    try:        \n",
        "        a, b = map(int, input().split())\n",
        "        print(a+b)\n",
        "    except:\n",
        "        break      "
      ],
      "execution_count": null,
      "outputs": [
        {
          "output_type": "stream",
          "text": [
            "1 2 \n",
            "3\n",
            "3 4 \n",
            "7\n",
            "11 12\n",
            "23\n",
            "DDK\n"
          ],
          "name": "stdout"
        }
      ]
    },
    {
      "cell_type": "markdown",
      "metadata": {
        "id": "HnSXUmc6gI-9"
      },
      "source": [
        "**1110번 더하기 사이클**\n",
        "\n",
        "0보다 크거나 같고, 999보다 작거나 같은 정수가 주어질 때 다음과 같은 연산을 할 수 있다. 먼저 주어진 수가 10보다 작다면 앞에 0을 붙여 두 자리 수로 만들고, 각 자리의 숫자를 더한다. \n",
        "그 다음, 주어진 수의 가장 오른쪽 자리 수와 앞에서 구한 합의 가장 오른쪽 자리 수를 이어 붙이면 새로운 수를 만들 수 있다.\n",
        "26부터 시작한다. 2+6 = 8이다. 새로운 수는 68이다. 6+8 = 14이다. 새로운 수는 84이다. \n",
        "8+4 = 12이다. 새로운 수는 42이다. 4+2 = 6이다. 새로운 수는 26이다.\n",
        "위의 예는 4번만에 원래 수로 돌아올 수 있다. 따라서 26의 사이클의 길이는 4이다.\n",
        "N이 주어졌을 때, N의 사이클의 길이를 구하는 프로그램을 작성하시오."
      ]
    },
    {
      "cell_type": "code",
      "metadata": {
        "colab": {
          "base_uri": "https://localhost:8080/"
        },
        "id": "UXmk0cbWgVTw",
        "outputId": "1abebda1-a56e-45ee-e42c-039166a8e6ae"
      },
      "source": [
        "n = list(map(int, input()))\n",
        "\n",
        "if len(n) == 1:\n",
        "  n.append(0)\n",
        "\n",
        "temp = [0, 0]\n",
        "sum_n = n[0] + n[1]\n",
        "\n",
        "if sum_n >= 10:\n",
        "  sum_n = sum_n % 10\n",
        "\n",
        "temp[0] = n[1]\n",
        "temp[1] = sum_n\n",
        "\n",
        "count = 1\n",
        "while True:\n",
        "  if temp[0] == n[0] and temp[1] == n[1]:\n",
        "    break\n",
        "  else:\n",
        "    sum_n = temp[0] + temp[1]\n",
        "\n",
        "    if sum_n >= 10:\n",
        "      sum_n = sum_n % 10\n",
        "    \n",
        "    temp[0] = temp[1]\n",
        "    temp[1] = sum_n\n",
        "    \n",
        "    count += 1\n",
        "print(count)"
      ],
      "execution_count": 1,
      "outputs": [
        {
          "output_type": "stream",
          "text": [
            "3\n",
            "60\n"
          ],
          "name": "stdout"
        }
      ]
    }
  ]
}