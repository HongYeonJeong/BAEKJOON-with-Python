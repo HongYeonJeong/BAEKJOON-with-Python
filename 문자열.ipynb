{
  "nbformat": 4,
  "nbformat_minor": 0,
  "metadata": {
    "colab": {
      "name": "문자열.ipynb",
      "provenance": [],
      "collapsed_sections": [],
      "authorship_tag": "ABX9TyOyijrv1rjWXPtHFMAmddMc",
      "include_colab_link": true
    },
    "kernelspec": {
      "name": "python3",
      "display_name": "Python 3"
    },
    "language_info": {
      "name": "python"
    }
  },
  "cells": [
    {
      "cell_type": "markdown",
      "metadata": {
        "id": "view-in-github",
        "colab_type": "text"
      },
      "source": [
        "<a href=\"https://colab.research.google.com/github/claire-yeonjeong/BAEKJOON-WITH-Python/blob/main/%EB%AC%B8%EC%9E%90%EC%97%B4.ipynb\" target=\"_parent\"><img src=\"https://colab.research.google.com/assets/colab-badge.svg\" alt=\"Open In Colab\"/></a>"
      ]
    },
    {
      "cell_type": "markdown",
      "metadata": {
        "id": "C-h-o8esSP_Q"
      },
      "source": [
        "**11654번 아스키 코드**\n",
        "\n",
        "알파벳 소문자, 대문자, 숫자 0-9 중 하나가 주어졌을 때, 주어진 글자의 아스키 코득밧을 출력하는 프로그램을 작성하시오."
      ]
    },
    {
      "cell_type": "code",
      "metadata": {
        "colab": {
          "base_uri": "https://localhost:8080/"
        },
        "id": "uwoaLuCTSPi5",
        "outputId": "d9967f4d-b54d-40a6-f30d-0cf49d42f34c"
      },
      "source": [
        "k = input()\n",
        "print(ord(k))"
      ],
      "execution_count": 2,
      "outputs": [
        {
          "output_type": "stream",
          "text": [
            "A\n",
            "65\n"
          ],
          "name": "stdout"
        }
      ]
    },
    {
      "cell_type": "markdown",
      "metadata": {
        "id": "zd_Uta6WSg6T"
      },
      "source": [
        "**117220번 숫자의 합**\n",
        "\n",
        "N개의 숫자가 공백 없이 쓰여져 있다. 이 숫자를 모두 합해서 출력하는 프로그램을 작성하시오."
      ]
    },
    {
      "cell_type": "code",
      "metadata": {
        "colab": {
          "base_uri": "https://localhost:8080/"
        },
        "id": "EqDHLJgpTUK1",
        "outputId": "b5983b73-80c2-4f3c-8fdd-4c8f7152c161"
      },
      "source": [
        "n = int(input())\n",
        "a = input()\n",
        "sum_a = 0\n",
        "\n",
        "for i in range(int(n)):\n",
        "  sum_a = sum_a + int(a[i])\n",
        "  i += 1\n",
        "print(sum_a)"
      ],
      "execution_count": 3,
      "outputs": [
        {
          "output_type": "stream",
          "text": [
            "5\n",
            "54321\n",
            "15\n"
          ],
          "name": "stdout"
        }
      ]
    },
    {
      "cell_type": "markdown",
      "metadata": {
        "id": "vWzryDqHRrCR"
      },
      "source": [
        "**10809번 알파벳찾기**\n",
        "\n",
        "알파벳 소문자로만 이루어진 단어 S가 주어딘다. 각각의 알파벳에 대해서, 단어에 포함되어 있는 경우에는 처음 등장하는 위치를, 포함되어 있지 않은 경우에는 -1을 출력하는 프로그램을 작성하시오."
      ]
    },
    {
      "cell_type": "code",
      "metadata": {
        "colab": {
          "base_uri": "https://localhost:8080/"
        },
        "id": "vAU3iHGqRplN",
        "outputId": "b90025ca-d2c0-42ce-e81c-742e7eff318f"
      },
      "source": [
        "s = input()\n",
        "for st in 'abcdefghijklmnopqrstuvwxyz':\n",
        "  print(s.find(st), end=' ')"
      ],
      "execution_count": 1,
      "outputs": [
        {
          "output_type": "stream",
          "text": [
            "baekjoon\n",
            "1 0 -1 -1 2 -1 -1 -1 -1 4 3 -1 -1 7 5 -1 -1 -1 -1 -1 -1 -1 -1 -1 -1 -1 "
          ],
          "name": "stdout"
        }
      ]
    },
    {
      "cell_type": "markdown",
      "metadata": {
        "id": "Qy4q7qd7Tj27"
      },
      "source": [
        "**2675번 문자열 반복**\n",
        "\n",
        "문자열 S를 입력받은 후에, 각 문자를 R번 반복해 새 문자열 P를 만든 후 출력하는 프로그램을 작성하시오. 즉, 첫 번째 문자를 R번 반복하고, 두 번째 문자를 R번 반복하는 식으로 P를 만들면 된다."
      ]
    },
    {
      "cell_type": "code",
      "metadata": {
        "colab": {
          "base_uri": "https://localhost:8080/"
        },
        "id": "cb_OazI0T1it",
        "outputId": "1df0e847-8b4e-4339-ca55-524f3545fe32"
      },
      "source": [
        "p = int(input())\n",
        "for i in range(p):\n",
        "  r, s = input().split()\n",
        "  s = list(s)\n",
        "  for i in range(len(s)):\n",
        "    for j in range(int(r)):\n",
        "      print(s[i], end='')\n",
        "  print()"
      ],
      "execution_count": 4,
      "outputs": [
        {
          "output_type": "stream",
          "text": [
            "2\n",
            "3 ABC\n",
            "AAABBBCCC\n",
            "5 /HTP\n",
            "/////HHHHHTTTTTPPPPP\n"
          ],
          "name": "stdout"
        }
      ]
    },
    {
      "cell_type": "markdown",
      "metadata": {
        "id": "zkrygPkbUGCu"
      },
      "source": [
        "**1157번 단어 공부**\n",
        "\n",
        "알파벳 대소문자로 된 단어가 주어지면, 이 단어에서 가장 많이 사용된 알파벳이 무엇인지 알아내는 프로그램을 작성하시오. 단, 대문자와 소문자를 구분하지 않는다."
      ]
    },
    {
      "cell_type": "code",
      "metadata": {
        "colab": {
          "base_uri": "https://localhost:8080/"
        },
        "id": "b9UHOSnpUQp6",
        "outputId": "13b451fb-9e17-4258-a096-443309eac492"
      },
      "source": [
        "s = input().upper()\n",
        "count = 0\n",
        "i = ''\n",
        "\n",
        "for w in set(s):\n",
        "  number = s.count(w)\n",
        "  if number == count:\n",
        "    i = '?'\n",
        "  elif number > count:\n",
        "    count = number\n",
        "    i = w\n",
        "print(i)"
      ],
      "execution_count": 6,
      "outputs": [
        {
          "output_type": "stream",
          "text": [
            "baaa\n",
            "A\n"
          ],
          "name": "stdout"
        }
      ]
    },
    {
      "cell_type": "markdown",
      "metadata": {
        "id": "21Y-no-RUwHA"
      },
      "source": [
        "**1152번 단어의 개수**\n",
        "\n",
        "영어 대소문자와 띄어쓰기만으로 이루어진 문자열이 주어진다. 이 문자열에는 몇 개의 단어가 있을까? 이를 구하는 프로그램을 작성하시오. 단, 한 단어가 여러 번 등장하면 등장한 횟수만큼 모두 세어야 한다."
      ]
    },
    {
      "cell_type": "code",
      "metadata": {
        "colab": {
          "base_uri": "https://localhost:8080/"
        },
        "id": "YFH3bk7kU6zm",
        "outputId": "bfa86c8a-f7ae-4810-ce78-36ac4f26b5de"
      },
      "source": [
        "string = input().split()\n",
        "print(len(string))"
      ],
      "execution_count": 7,
      "outputs": [
        {
          "output_type": "stream",
          "text": [
            "The Curious Case of Benjamin Button\n",
            "6\n"
          ],
          "name": "stdout"
        }
      ]
    },
    {
      "cell_type": "markdown",
      "metadata": {
        "id": "pASXLq7kVGDd"
      },
      "source": [
        "**2908번 상수**\n",
        "\n",
        "상수는 수를 다른 사람과 다르게 거꾸로 읽는다. 예를들어, 734와 893을 칠판에 적었다면, 상수는 이 수를 437과 398로 읽는다. 따라서 상수는 두 수 중 큰 수인 437을 큰 수라고 말할 것이다. 두 수가 주어졌을 때, 상수의 대답을 출력하는 프로그램을 작성하시오."
      ]
    },
    {
      "cell_type": "code",
      "metadata": {
        "colab": {
          "base_uri": "https://localhost:8080/"
        },
        "id": "yJ7Ojcv9VZZj",
        "outputId": "88d3f2be-57d5-4f09-b9da-ca9d22f050d4"
      },
      "source": [
        "a, b = map(list, map(str, input().split()))\n",
        "a.reverse()\n",
        "b.reverse()\n",
        "ar = ''.join(a)\n",
        "br = ''.join(b)\n",
        "\n",
        "if ar > br:\n",
        "  print(ar)\n",
        "else:\n",
        "  print(br)"
      ],
      "execution_count": 8,
      "outputs": [
        {
          "output_type": "stream",
          "text": [
            "734 893\n",
            "437\n"
          ],
          "name": "stdout"
        }
      ]
    },
    {
      "cell_type": "markdown",
      "metadata": {
        "id": "3GsWkYg5VoJV"
      },
      "source": [
        "**5622번 다이얼**\n",
        "\n",
        "전화를 걸고 싶은 번호가 있다면, 숫자를 하나 누른 다음에 금속 핀이 있는 곳까지 시계방향으로 돌려야 한다. 숫자를 하나 누르면 다이얼이 처음 위치로 돌아가고, 다음 숫자를 누르려면 다이얼을 처음 위치에서 다시 돌려야 한다. 숫자 1을 걸려면 총 2초가 필요하다. 1보다 큰 수를 거는데 걸리는 시간은 이보다 더 걸리며, \n",
        "한 칸 옆에 있는 숫자를 걸기 위해선 1초씩 더 걸린다. 상근이의 할머니는 전화번호를 각 숫자에 해당하는 문자로 외운다. 즉, 어떤 단어를 걸 때, 각 알파벳에 해당하는 숫자를 걸면 된다. 예르 들어, UNUCIC는 868242와 같다. 할머니가 외운 단어가 주어졌을 때, 이 전화를 걸기 위해서 필요한 최소 시간을 구하는 프로그램을 작성하시오.\n",
        "\n",
        "첫째 줄에 알파벳 대문자로 이루어진 단어가 주어진다. 단어는 2글자~15글자로 이루어져 있다."
      ]
    },
    {
      "cell_type": "code",
      "metadata": {
        "colab": {
          "base_uri": "https://localhost:8080/"
        },
        "id": "CUT8N-oHWUoU",
        "outputId": "51712fbf-e955-4ca1-f4b0-28bcd5340a00"
      },
      "source": [
        "s = input()\n",
        "result = 0\n",
        "\n",
        "for i in s:\n",
        "  if i in ['A', 'B', 'C']:\n",
        "    result += 3\n",
        "  elif i in ['D', 'E', 'F']:\n",
        "    result += 4\n",
        "  elif i in ['G', 'H', 'I']:\n",
        "    result += 5\n",
        "  elif i in ['J', 'K', 'L']:\n",
        "    result += 6\n",
        "  elif i in ['M', 'N', 'O']:\n",
        "    result += 7\n",
        "  elif i in ['P', 'Q', 'R', 'S']:\n",
        "    result += 8\n",
        "  elif i in ['T', 'U', 'V']:\n",
        "    result += 9\n",
        "  elif i in ['W', 'X', 'Y', 'Z']:\n",
        "    result += 10\n",
        "print(result)"
      ],
      "execution_count": 10,
      "outputs": [
        {
          "output_type": "stream",
          "text": [
            "UNUCIC\n",
            "36\n"
          ],
          "name": "stdout"
        }
      ]
    },
    {
      "cell_type": "markdown",
      "metadata": {
        "id": "5gEesGK3XWph"
      },
      "source": [
        "**2941번 크로아티아 알파벳**\n",
        "\n",
        "첫째 줄에 최대 1000글자의 단어가 주어진다. 알파벳 소문자와 '-', '='로만 이루어져 있다. 단어는 크로아티아 알파벳으로 이루어져 있다. 문제 설명의 표에 나와있는 알파벳은 변경된 형태로 입력된다. 입력으라ㅗ 주어진 단어가 몇 개의 크로아티아 알파벳으로 이루어져 있는지 출력한다."
      ]
    },
    {
      "cell_type": "code",
      "metadata": {
        "colab": {
          "base_uri": "https://localhost:8080/"
        },
        "id": "_zZgNKCIXnsi",
        "outputId": "2f40ae5b-aae3-43fb-f143-eb15857dbf55"
      },
      "source": [
        "s = input()\n",
        "a = ['c=', 'c-', 'dz=', 'd-', 'lj', 'nj', 's=', 'z=']\n",
        "for i in a:\n",
        "    if i in string:\n",
        "        string = string.replace(i, ' ')\n",
        "print(len(string))"
      ],
      "execution_count": 11,
      "outputs": [
        {
          "output_type": "stream",
          "text": [
            "ljes=njak\n",
            "6\n"
          ],
          "name": "stdout"
        }
      ]
    },
    {
      "cell_type": "markdown",
      "metadata": {
        "id": "pPT_Asp2Xvpb"
      },
      "source": [
        "**1316번 그룹 단어 체커**\n",
        "\n",
        "그룹 단어란 단어에 존재하는 모든 문자에 대해서, 각 문자가 연속해서 나타나는 경우를 말한다. 예를 들면 ccazzzzbb는 c, a, z, b가 모두 영ㄴ속해서 나타나고, kin은 k, i, n이 연속해서 나타나기 때문에 그룹 단어지만, aabbbccb는 b가 떨어져서 나타나기 때문에 그룹단어가 아니다. 단어를 N개 입력으로 받아 그룹 단어의 개수를 출력하는 프로그램을 작성하시오."
      ]
    },
    {
      "cell_type": "code",
      "metadata": {
        "colab": {
          "base_uri": "https://localhost:8080/"
        },
        "id": "TxOenec2YDsY",
        "outputId": "0c9ec9b3-2657-4f00-bd73-dd0a9a02c700"
      },
      "source": [
        "n = int(input())\n",
        "for i in range(n):\n",
        "  s = input()\n",
        "  for j in range(1, len(s)):\n",
        "    if s.find(s[ja-1]) > s.find(s[j]):\n",
        "      n -= 1\n",
        "      break\n",
        "print(n)"
      ],
      "execution_count": 13,
      "outputs": [
        {
          "output_type": "stream",
          "text": [
            "4\n",
            "aba\n",
            "abab\n",
            "abcabc\n",
            "\n",
            "1\n"
          ],
          "name": "stdout"
        }
      ]
    }
  ]
}