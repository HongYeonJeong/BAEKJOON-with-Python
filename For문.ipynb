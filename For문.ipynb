{
  "nbformat": 4,
  "nbformat_minor": 0,
  "metadata": {
    "colab": {
      "name": "For문.ipynb",
      "provenance": [],
      "collapsed_sections": [],
      "authorship_tag": "ABX9TyM0S8Uevhhmg3iwgy2S00CW",
      "include_colab_link": true
    },
    "kernelspec": {
      "name": "python3",
      "display_name": "Python 3"
    },
    "language_info": {
      "name": "python"
    }
  },
  "cells": [
    {
      "cell_type": "markdown",
      "metadata": {
        "id": "view-in-github",
        "colab_type": "text"
      },
      "source": [
        "<a href=\"https://colab.research.google.com/github/claire-yeonjeong/BAEKJOON/blob/main/For%EB%AC%B8.ipynb\" target=\"_parent\"><img src=\"https://colab.research.google.com/assets/colab-badge.svg\" alt=\"Open In Colab\"/></a>"
      ]
    },
    {
      "cell_type": "markdown",
      "metadata": {
        "id": "WmY0Bn34YZB4"
      },
      "source": [
        "**2739번 구구단**\n",
        "\n",
        "N을 입력받은 뒤, 구구단 N단을 출력하는 프로그램을 작성하시오."
      ]
    },
    {
      "cell_type": "code",
      "metadata": {
        "colab": {
          "base_uri": "https://localhost:8080/"
        },
        "id": "3MbsADFpYe4n",
        "outputId": "3578f767-7083-40cf-e624-43ed7ae06bb6"
      },
      "source": [
        "n = int(input())\n",
        "for i in range(1, 10):\n",
        "  print(n, \"*\", i, \"=\", n*i)"
      ],
      "execution_count": 1,
      "outputs": [
        {
          "output_type": "stream",
          "text": [
            "5\n",
            "5 * 1 = 5\n",
            "5 * 2 = 10\n",
            "5 * 3 = 15\n",
            "5 * 4 = 20\n",
            "5 * 5 = 25\n",
            "5 * 6 = 30\n",
            "5 * 7 = 35\n",
            "5 * 8 = 40\n",
            "5 * 9 = 45\n"
          ],
          "name": "stdout"
        }
      ]
    },
    {
      "cell_type": "markdown",
      "metadata": {
        "id": "HFTE8Pf8YqBT"
      },
      "source": [
        "**10950번 A+B -3**\n",
        "\n",
        "두 정수 A와 B를 입력받은 다음, A+B를 출력하는 프로그램을 작성하시오.\n",
        "첫째줄에 테스트 케이스의 개수 T가 주어진다.\n",
        "각 테스트 케이스는 한 줄로 이루어져 있으며, 각 줄에 A와 B가 주어진다. (0 < A,B < 10)"
      ]
    },
    {
      "cell_type": "code",
      "metadata": {
        "colab": {
          "base_uri": "https://localhost:8080/"
        },
        "id": "miolEvSXY7z0",
        "outputId": "6b206299-f1a3-4498-870f-5f1d20a050c9"
      },
      "source": [
        "t = int(input())\n",
        "for i in range(t):\n",
        "  a, b = map(int, input().split())\n",
        "  print(a + b)"
      ],
      "execution_count": 2,
      "outputs": [
        {
          "output_type": "stream",
          "text": [
            "3\n",
            "1 4\n",
            "5\n",
            "2 3\n",
            "5\n",
            "1 9\n",
            "10\n"
          ],
          "name": "stdout"
        }
      ]
    },
    {
      "cell_type": "markdown",
      "metadata": {
        "id": "HNOB_BvYZFbU"
      },
      "source": [
        "**8393번 합**\n",
        "\n",
        "n이 주어졌을 때, 1부터 n까지의 합을 구하는 프로그램을 작성하시오."
      ]
    },
    {
      "cell_type": "code",
      "metadata": {
        "colab": {
          "base_uri": "https://localhost:8080/"
        },
        "id": "S-KMhB3-ZKzf",
        "outputId": "70d171b1-d813-46f7-8cd6-6db75ab12119"
      },
      "source": [
        "n = int(input())\n",
        "sum = 0\n",
        "for i in range(n+1):\n",
        "  sum += i\n",
        "print(sum)"
      ],
      "execution_count": 3,
      "outputs": [
        {
          "output_type": "stream",
          "text": [
            "5\n",
            "15\n"
          ],
          "name": "stdout"
        }
      ]
    },
    {
      "cell_type": "markdown",
      "metadata": {
        "id": "P8Mc8YUTZShH"
      },
      "source": [
        "**2741번 기찍N**\n",
        "\n",
        "자연수 N이 주어졌을 때, N부터 1까지 한 줄에 하나씩 출력하는 프로그램을 작성하시오."
      ]
    },
    {
      "cell_type": "code",
      "metadata": {
        "colab": {
          "base_uri": "https://localhost:8080/"
        },
        "id": "U-bSvNthZaer",
        "outputId": "8096e9fd-b9fa-4be9-aeb3-b1477a600c38"
      },
      "source": [
        "n = int(input())\n",
        "for i in range(n):\n",
        "  print(n - i)\n",
        "  i += 1"
      ],
      "execution_count": 4,
      "outputs": [
        {
          "output_type": "stream",
          "text": [
            "5\n",
            "5\n",
            "4\n",
            "3\n",
            "2\n",
            "1\n"
          ],
          "name": "stdout"
        }
      ]
    },
    {
      "cell_type": "markdown",
      "metadata": {
        "id": "DIiQmSoMZi95"
      },
      "source": [
        "**11021번 A+B -7**\n",
        "\n",
        "두 정수 A와 B를 입력받은 다음, A+B를 출력하는 프로그램을 작성하시오.\n",
        "각 테스트 케이스마다 \"Case #x: \"를 출력한 다음, A+B를 출력한다. 테스트 케이스 번호는 1부터 시작한다. "
      ]
    },
    {
      "cell_type": "code",
      "metadata": {
        "colab": {
          "base_uri": "https://localhost:8080/"
        },
        "id": "nVU19rhPZ0hF",
        "outputId": "ea880777-d025-44d7-86bf-71435ab88f4e"
      },
      "source": [
        "t = int(input())\n",
        "for i in range(t):\n",
        "  a, b = map(int, input().split())\n",
        "  print(\"Case #{} : {}\".format(i+1, a+b))"
      ],
      "execution_count": 7,
      "outputs": [
        {
          "output_type": "stream",
          "text": [
            "3\n",
            "4 5\n",
            "Case #1 : 9\n",
            "1 5\n",
            "Case #2 : 6\n",
            "5 6\n",
            "Case #3 : 11\n"
          ],
          "name": "stdout"
        }
      ]
    },
    {
      "cell_type": "markdown",
      "metadata": {
        "id": "RXkzklNraIKT"
      },
      "source": [
        "**11022번 A+B -8**\n",
        "\n",
        "두 정수 A와 B를 입력받은 다음, A+B를 출력하는 프로그램을 작성하시오.\n",
        "각 테이스 케이스마다 \"Case #x : A + B = C\" 형식으로 출력한다. x는 테스트 케이스 번호이고 1부터 시작한다. C는 A+B를 의미한다."
      ]
    },
    {
      "cell_type": "code",
      "metadata": {
        "colab": {
          "base_uri": "https://localhost:8080/"
        },
        "id": "L_aw-auCaTa0",
        "outputId": "afd78d06-8d9c-4fee-fe40-17083d1771dc"
      },
      "source": [
        "t = int(input())\n",
        "for i in range(t):\n",
        "  a, b = map(int, input().split())\n",
        "  print(\"Case #{} : {} + {} = {}\".format(i+1, a, b, a+b))"
      ],
      "execution_count": 8,
      "outputs": [
        {
          "output_type": "stream",
          "text": [
            "2\n",
            "1 6\n",
            "Case #1 : 1 + 6 = 7\n",
            "3 8\n",
            "Case #2 : 3 + 8 = 11\n"
          ],
          "name": "stdout"
        }
      ]
    },
    {
      "cell_type": "markdown",
      "metadata": {
        "id": "SvG1AWrzaojj"
      },
      "source": [
        "**2438번 별찍기 -1**\n",
        "\n",
        "첫째 줄에는 별 1개, 둘째 줄에는 별 2개, N번째 줄에는 별 N개를 찍는 프로그램을 작성하시오."
      ]
    },
    {
      "cell_type": "code",
      "metadata": {
        "colab": {
          "base_uri": "https://localhost:8080/"
        },
        "id": "efDAG-qRaxE2",
        "outputId": "8144673d-97f7-4963-f960-1a70e1aee41b"
      },
      "source": [
        "n = int(input())\n",
        "for i in range(1, n+1):\n",
        "  print(\"*\" * i)\n",
        "print()"
      ],
      "execution_count": 10,
      "outputs": [
        {
          "output_type": "stream",
          "text": [
            "7\n",
            "*\n",
            "**\n",
            "***\n",
            "****\n",
            "*****\n",
            "******\n",
            "*******\n",
            "\n"
          ],
          "name": "stdout"
        }
      ]
    },
    {
      "cell_type": "markdown",
      "metadata": {
        "id": "dlRrvhUQa7KP"
      },
      "source": [
        "**2439번 별찍기 -2**\n",
        "\n",
        "첫째 줄에는 별 1개, 둘째 줄에는 별 2개, N번째 줄에는 별 N개를 찍는 프로그램을 작성하시오. 단, 오른쪽을 기준으로 정렬한 별을 출력하시오."
      ]
    },
    {
      "cell_type": "code",
      "metadata": {
        "colab": {
          "base_uri": "https://localhost:8080/"
        },
        "id": "oFxKYw7FbJdn",
        "outputId": "b744d7af-ec1a-4c8c-f769-38178246adb0"
      },
      "source": [
        "n = int(input())\n",
        "for i in range(1, n+1):\n",
        "  print(\" \" * (n-i), end = \"\")\n",
        "  print(\"*\" * i)\n",
        "print()"
      ],
      "execution_count": 11,
      "outputs": [
        {
          "output_type": "stream",
          "text": [
            "5\n",
            "    *\n",
            "   **\n",
            "  ***\n",
            " ****\n",
            "*****\n",
            "\n"
          ],
          "name": "stdout"
        }
      ]
    },
    {
      "cell_type": "markdown",
      "metadata": {
        "id": "mg5v9VDTbTlo"
      },
      "source": [
        "**10871번 X보다 작은 수**\n",
        "\n",
        "정수 N개로 이루어진 수열 A와 정수 X가 주어진다.\n",
        "이때, A에서 X보다 작은 수를 모두 출력하는 프로그램을 작성하시오."
      ]
    },
    {
      "cell_type": "code",
      "metadata": {
        "colab": {
          "base_uri": "https://localhost:8080/"
        },
        "id": "wAYSxoFfbqUc",
        "outputId": "b53f07dd-04ca-44ec-e9b0-707eedded5b5"
      },
      "source": [
        "n, x = map(int, input().split())\n",
        "str = list(map(int, input().split()))\n",
        "for i in str:\n",
        "    if i < x:\n",
        "        print(i, end=\" \")"
      ],
      "execution_count": 15,
      "outputs": [
        {
          "output_type": "stream",
          "text": [
            "4 5\n",
            "1 4 2 7 4\n",
            "1 4 2 4 "
          ],
          "name": "stdout"
        }
      ]
    },
    {
      "cell_type": "markdown",
      "metadata": {
        "id": "mctjx951cGXX"
      },
      "source": [
        "**15552번 빠른 A+B**\n",
        "\n",
        "Python을 이용하고 있다면, input 대신 sys.stdin.readline을 사용할 수 있다.\n",
        "단, 이때는 맨 끝의 개행문자까지 같이 입력받기 때문에 문자열을 저장하고 싶을 경우 .rstrip()을 추가로 해주는 것이 좋다.\n",
        "첫 줄에 테스트케이스의 개수 T가 주어진다. T는 최대 1,000,000이다. 다음 T줄에는 각각 두 정수 A와 B가 주어진다. A와 B는 1 이상, 1,000 이하이다."
      ]
    },
    {
      "cell_type": "code",
      "metadata": {
        "colab": {
          "base_uri": "https://localhost:8080/",
          "height": 244
        },
        "id": "BQQfH1Xychy_",
        "outputId": "a444170e-9ef9-4a75-a5c0-fc293b426414"
      },
      "source": [
        "import sys\n",
        "num=int(sys.stdin.readline())\n",
        "\n",
        "for i in range (num):\n",
        "    a,b=map(int,sys.stdin.readline().split())\n",
        "    print(a+b)"
      ],
      "execution_count": 33,
      "outputs": [
        {
          "output_type": "error",
          "ename": "ValueError",
          "evalue": "ignored",
          "traceback": [
            "\u001b[0;31m---------------------------------------------------------------------------\u001b[0m",
            "\u001b[0;31mValueError\u001b[0m                                Traceback (most recent call last)",
            "\u001b[0;32m<ipython-input-33-b34179507116>\u001b[0m in \u001b[0;36m<module>\u001b[0;34m()\u001b[0m\n\u001b[1;32m      1\u001b[0m \u001b[0;32mimport\u001b[0m \u001b[0msys\u001b[0m\u001b[0;34m\u001b[0m\u001b[0;34m\u001b[0m\u001b[0m\n\u001b[0;32m----> 2\u001b[0;31m \u001b[0mnum\u001b[0m\u001b[0;34m=\u001b[0m\u001b[0mint\u001b[0m\u001b[0;34m(\u001b[0m\u001b[0mfloat\u001b[0m\u001b[0;34m(\u001b[0m\u001b[0msys\u001b[0m\u001b[0;34m.\u001b[0m\u001b[0mstdin\u001b[0m\u001b[0;34m.\u001b[0m\u001b[0mreadline\u001b[0m\u001b[0;34m(\u001b[0m\u001b[0;34m)\u001b[0m\u001b[0;34m)\u001b[0m\u001b[0;34m)\u001b[0m\u001b[0;34m\u001b[0m\u001b[0;34m\u001b[0m\u001b[0m\n\u001b[0m\u001b[1;32m      3\u001b[0m \u001b[0;34m\u001b[0m\u001b[0m\n\u001b[1;32m      4\u001b[0m \u001b[0;32mfor\u001b[0m \u001b[0mi\u001b[0m \u001b[0;32min\u001b[0m \u001b[0mrange\u001b[0m \u001b[0;34m(\u001b[0m\u001b[0mnum\u001b[0m\u001b[0;34m)\u001b[0m\u001b[0;34m:\u001b[0m\u001b[0;34m\u001b[0m\u001b[0;34m\u001b[0m\u001b[0m\n\u001b[1;32m      5\u001b[0m     \u001b[0ma\u001b[0m\u001b[0;34m,\u001b[0m\u001b[0mb\u001b[0m\u001b[0;34m=\u001b[0m\u001b[0mmap\u001b[0m\u001b[0;34m(\u001b[0m\u001b[0mint\u001b[0m\u001b[0;34m,\u001b[0m\u001b[0msys\u001b[0m\u001b[0;34m.\u001b[0m\u001b[0mstdin\u001b[0m\u001b[0;34m.\u001b[0m\u001b[0mreadline\u001b[0m\u001b[0;34m(\u001b[0m\u001b[0;34m)\u001b[0m\u001b[0;34m.\u001b[0m\u001b[0msplit\u001b[0m\u001b[0;34m(\u001b[0m\u001b[0;34m)\u001b[0m\u001b[0;34m)\u001b[0m\u001b[0;34m\u001b[0m\u001b[0;34m\u001b[0m\u001b[0m\n",
            "\u001b[0;31mValueError\u001b[0m: could not convert string to float: "
          ]
        }
      ]
    }
  ]
}