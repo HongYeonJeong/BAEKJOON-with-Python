{
  "nbformat": 4,
  "nbformat_minor": 0,
  "metadata": {
    "colab": {
      "name": "If문.ipynb",
      "provenance": [],
      "collapsed_sections": [],
      "authorship_tag": "ABX9TyOPE74GvXUnvTyuiC0jMGqk",
      "include_colab_link": true
    },
    "kernelspec": {
      "name": "python3",
      "display_name": "Python 3"
    },
    "language_info": {
      "name": "python"
    }
  },
  "cells": [
    {
      "cell_type": "markdown",
      "metadata": {
        "id": "view-in-github",
        "colab_type": "text"
      },
      "source": [
        "<a href=\"https://colab.research.google.com/github/claire-yeonjeong/BAEKJOON/blob/main/If%EB%AC%B8.ipynb\" target=\"_parent\"><img src=\"https://colab.research.google.com/assets/colab-badge.svg\" alt=\"Open In Colab\"/></a>"
      ]
    },
    {
      "cell_type": "markdown",
      "metadata": {
        "id": "KE84ozBNKPRP"
      },
      "source": [
        "**1130번 두 수 비교하기**\n",
        "\n",
        "두 정수 A와 B가 주어졌을 때, A와 B를 비교하는 프로그램을 작성하시오.\n",
        "\n",
        "\n",
        "*   A와 B보다 큰 경우에는 '>'를 출력\n",
        "*   A가 B보다 작은 경우에는 '<'를 출력\n",
        "* A와 B가 같은 경우에는 '=='를 출력\n",
        "\n"
      ]
    },
    {
      "cell_type": "code",
      "metadata": {
        "colab": {
          "base_uri": "https://localhost:8080/"
        },
        "id": "m7lPVWirKlUl",
        "outputId": "be707785-cd00-453c-de65-f48024f1e615"
      },
      "source": [
        "A, B = list(map(int, input().split()))\n",
        "if A > B : \n",
        "  print('>')\n",
        "elif A < B :\n",
        "  print('<')\n",
        "else:\n",
        "  print('==')"
      ],
      "execution_count": null,
      "outputs": [
        {
          "output_type": "stream",
          "text": [
            "3 4\n",
            "<\n"
          ],
          "name": "stdout"
        }
      ]
    },
    {
      "cell_type": "markdown",
      "metadata": {
        "id": "RdKNkc2-K25o"
      },
      "source": [
        "**9498번 시험 성적**\n",
        "\n",
        "시험 점수를 입력받아 90 ~ 100점은 A, 80 ~ 89점은 B, 70 ~ 79점은 C, 60~69점은 D, 나머지 점수는 F를 출력하는 프로그램을 작성하시오."
      ]
    },
    {
      "cell_type": "code",
      "metadata": {
        "colab": {
          "base_uri": "https://localhost:8080/"
        },
        "id": "_IJEmq-PLOvg",
        "outputId": "073b9f3a-026a-485a-f2f8-315e5afc2a48"
      },
      "source": [
        "score = int(input())\n",
        "if score >= 90 :\n",
        "  print('A')\n",
        "elif score >= 80 :\n",
        "  print('B')\n",
        "elif score >= 70 :\n",
        "  print('C')\n",
        "elif score >= 60 :\n",
        "  print('D')\n",
        "else:\n",
        "  print('F')"
      ],
      "execution_count": null,
      "outputs": [
        {
          "output_type": "stream",
          "text": [
            "85\n",
            "B\n"
          ],
          "name": "stdout"
        }
      ]
    },
    {
      "cell_type": "markdown",
      "metadata": {
        "id": "qrpLnTB6LfWf"
      },
      "source": [
        "**2753년 윤년**\n",
        "\n",
        "연도가 주어졌을 때, 윤년이면 1, 아니면 0을 출력하는 프로그램을 작성하시오.\n",
        "윤년은 연도가 4의 배수이면서, 100의 배수가 아닐 때 또는 400의 배수일 때이다."
      ]
    },
    {
      "cell_type": "code",
      "metadata": {
        "colab": {
          "base_uri": "https://localhost:8080/"
        },
        "id": "Z7hMROS1Lunv",
        "outputId": "4a458f33-7b85-4a2b-ac74-5f23ae4b33b0"
      },
      "source": [
        "year = int(input())\n",
        "if (year%4 == 0 and year%100 != 0) or (year%400 == 0):\n",
        "  print('1')\n",
        "else:\n",
        "  print('0')"
      ],
      "execution_count": null,
      "outputs": [
        {
          "output_type": "stream",
          "text": [
            "2021\n",
            "0\n"
          ],
          "name": "stdout"
        }
      ]
    },
    {
      "cell_type": "markdown",
      "metadata": {
        "id": "arZy4RgfMBFw"
      },
      "source": [
        "**14681번 사분면 고르기**\n",
        "\n",
        "첫 줄에는 정수 x가 주어진다. (-1000 <= x <= 1000, x != 0)\n",
        "\n",
        "다음 줄에는 정수 y가 주어진다. (-1000 <= y <= 1000, y != 0)\n",
        "\n",
        "점의 좌표를 입력받아 그 점이 어느 사분면에 속하는지 알아내는 프로그램을 작성하시오."
      ]
    },
    {
      "cell_type": "code",
      "metadata": {
        "colab": {
          "base_uri": "https://localhost:8080/"
        },
        "id": "MXJF-AZXMc_7",
        "outputId": "8e6bf415-5a5c-4fcc-b3ef-851c8d477cbd"
      },
      "source": [
        "x = int(input())\n",
        "y = int(input())\n",
        "\n",
        "if x * y > 0:\n",
        "  if x > 0 :\n",
        "    print(\"1\")\n",
        "  else:\n",
        "    print(\"3\")\n",
        "else:\n",
        "  if x > 0:\n",
        "    print(\"4\")\n",
        "  else:\n",
        "    print(\"2\")"
      ],
      "execution_count": null,
      "outputs": [
        {
          "output_type": "stream",
          "text": [
            "4\n",
            "-6\n",
            "4\n"
          ],
          "name": "stdout"
        }
      ]
    },
    {
      "cell_type": "markdown",
      "metadata": {
        "id": "kgsYHFGeNHpZ"
      },
      "source": [
        "**2884번 알람 시계**\n",
        "\n",
        "45분 일찍 알람 설정하기\n",
        "\n",
        "첫째 줄에 두 정수 H와 M이 주어진다. (0 <= H <= 23, 0 <= M <= 59)\n",
        "\n",
        "그리고 이것은 현재 상근이가 설정해놓은 알람 시간 H시 M분을 의미한다.\n",
        "입력 시간은 24시간 표현을 사용한다. \n",
        "\n",
        "24시간 표현에서 하루의 시작은 0:0(자정)이고, 끝은 23:59(다음날 자정 1분 전)이다. 시간을 나타낼 때, 불필요햔 0은 사용하지 않는다."
      ]
    },
    {
      "cell_type": "code",
      "metadata": {
        "colab": {
          "base_uri": "https://localhost:8080/"
        },
        "id": "swv7I1GLNowD",
        "outputId": "71722231-af4e-422f-f6e0-6b1263b5f647"
      },
      "source": [
        "H, M = map(int, input().split())\n",
        "M = M - 45\n",
        "if M < 0 :\n",
        "  M = M + 60\n",
        "  H = H - 1\n",
        "  if H < 0:\n",
        "    H = H + 24\n",
        "print(H, M)"
      ],
      "execution_count": null,
      "outputs": [
        {
          "output_type": "stream",
          "text": [
            "5 56\n",
            "5 11\n"
          ],
          "name": "stdout"
        }
      ]
    }
  ]
}