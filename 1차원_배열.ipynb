{
  "nbformat": 4,
  "nbformat_minor": 0,
  "metadata": {
    "colab": {
      "name": "1차원 배열.ipynb",
      "provenance": [],
      "collapsed_sections": [],
      "authorship_tag": "ABX9TyP3sADr+ohbsUezRI0e3u6S",
      "include_colab_link": true
    },
    "kernelspec": {
      "name": "python3",
      "display_name": "Python 3"
    },
    "language_info": {
      "name": "python"
    }
  },
  "cells": [
    {
      "cell_type": "markdown",
      "metadata": {
        "id": "view-in-github",
        "colab_type": "text"
      },
      "source": [
        "<a href=\"https://colab.research.google.com/github/claire-yeonjeong/BAEKJOON-WITH-Python/blob/main/1%EC%B0%A8%EC%9B%90_%EB%B0%B0%EC%97%B4.ipynb\" target=\"_parent\"><img src=\"https://colab.research.google.com/assets/colab-badge.svg\" alt=\"Open In Colab\"/></a>"
      ]
    },
    {
      "cell_type": "markdown",
      "metadata": {
        "id": "0g67wuEOmZ5U"
      },
      "source": [
        "**10818번 최소, 최대**\n",
        "\n",
        "N개의 정수가 주어진다. 이때 최솟값과 최대값을 구하는 프로그램을 작성하시오."
      ]
    },
    {
      "cell_type": "code",
      "metadata": {
        "colab": {
          "base_uri": "https://localhost:8080/"
        },
        "id": "zAZiob5Imh7e",
        "outputId": "f967fbe6-a8e0-4c8f-a077-82836798954c"
      },
      "source": [
        "n = int(input())\n",
        "nlist = list(map(int, input().split()))\n",
        "nlist.sort()\n",
        "print(nlist[0], nlist[-1])"
      ],
      "execution_count": 1,
      "outputs": [
        {
          "output_type": "stream",
          "text": [
            "5\n",
            "1 5 6 2 3\n",
            "1 6\n"
          ],
          "name": "stdout"
        }
      ]
    },
    {
      "cell_type": "markdown",
      "metadata": {
        "id": "t2kY97Jhmt7o"
      },
      "source": [
        "**2562번 최댓값**\n",
        "\n",
        "9개의 서로 다른 자연수가 주어질 때, 이들 중 최댓값을 찾고 그 최댓값이 몇 번째 수인지를 구하는 프로그램을 작성하시오."
      ]
    },
    {
      "cell_type": "code",
      "metadata": {
        "colab": {
          "base_uri": "https://localhost:8080/"
        },
        "id": "lplCrYLPm4YO",
        "outputId": "129f733e-6291-4836-d62d-43ed0b063d62"
      },
      "source": [
        "nlist = []\n",
        "for i in range(9):\n",
        "  n = int(input())\n",
        "  nlist.append(n)\n",
        "\n",
        "max_n = 0\n",
        "for n in nlist:\n",
        "  if n > max_n:\n",
        "    max_n = n\n",
        "\n",
        "print(max_n)\n",
        "print(nlist.index(max_n)+1)"
      ],
      "execution_count": 2,
      "outputs": [
        {
          "output_type": "stream",
          "text": [
            "4\n",
            "5\n",
            "1\n",
            "3\n",
            "2\n",
            "7\n",
            "4\n",
            "3\n",
            "2\n",
            "7\n",
            "6\n"
          ],
          "name": "stdout"
        }
      ]
    },
    {
      "cell_type": "markdown",
      "metadata": {
        "id": "aCb5XPdLnO5m"
      },
      "source": [
        "**2577번 숫자의 개수**\n",
        "\n",
        "세 개의 자연수 A, B, C가 주어질 때 AxBxC를 계산한 결과에 0부터 9까지의 각각의 숫자가 몇 번씩 쓰였는지를 구하는 프로그램을 작성하시오."
      ]
    },
    {
      "cell_type": "code",
      "metadata": {
        "colab": {
          "base_uri": "https://localhost:8080/"
        },
        "id": "FIc7IIsCnZUt",
        "outputId": "95566c84-ced2-4127-d5f0-65976dd36f2a"
      },
      "source": [
        "n = 1\n",
        "for i in range(0, 3):\n",
        "  k = int(input())\n",
        "  n = n * k\n",
        "\n",
        "num = str(n)\n",
        "for i in '0123456789':\n",
        "  print(num.count(i))"
      ],
      "execution_count": 3,
      "outputs": [
        {
          "output_type": "stream",
          "text": [
            "36\n",
            "12\n",
            "56\n",
            "0\n",
            "1\n",
            "2\n",
            "0\n",
            "1\n",
            "0\n",
            "0\n",
            "0\n",
            "0\n",
            "1\n"
          ],
          "name": "stdout"
        }
      ]
    },
    {
      "cell_type": "markdown",
      "metadata": {
        "id": "MY346GwQn3KP"
      },
      "source": [
        "**3052번 나머지 **\n",
        "\n",
        "수 10개를 입력받은 뒤, 이릘 42로 나눈 나머지를 구한다. 그 다음 서로 다른 값이 몇 개있는지 출력하는 프로그램을 작성하시오."
      ]
    },
    {
      "cell_type": "code",
      "metadata": {
        "colab": {
          "base_uri": "https://localhost:8080/"
        },
        "id": "RWOhwkYxn_Id",
        "outputId": "eabd5f81-a616-4f62-b2ae-bdbe6db94e6e"
      },
      "source": [
        "nlist = []\n",
        "for i in range(10):\n",
        "  n = int(input())\n",
        "  k = n %42\n",
        "  nlist.append(k)\n",
        "\n",
        "result = len(set(nlist))  # set() : 중복값 없애기\n",
        "print(result)"
      ],
      "execution_count": 4,
      "outputs": [
        {
          "output_type": "stream",
          "text": [
            "7\n",
            "56\n",
            "12\n",
            "78\n",
            "54\n",
            "23\n",
            "42\n",
            "56\n",
            "8\n",
            "4\n",
            "8\n"
          ],
          "name": "stdout"
        }
      ]
    },
    {
      "cell_type": "markdown",
      "metadata": {
        "id": "cWhBA3ENoSx5"
      },
      "source": [
        "**1546번 평균**\n",
        "\n",
        "세준이는 기말고사를 망쳤다. 세준이는 점수를 조작해서 집에 가져가기로 했다. 일단 세준이는 자기 점수 중에 최댓값을 골랐다. 이 값을 M이라고 한다. 그리고 나서 모든 점수를 점수/M*100으로 고쳤다. 새로운 점수들의 평균을 구하는 프로그램을 작성하시오."
      ]
    },
    {
      "cell_type": "code",
      "metadata": {
        "colab": {
          "base_uri": "https://localhost:8080/"
        },
        "id": "WRC4Z_kEoltA",
        "outputId": "11c2ca8f-aa74-488e-828a-a8a0a50fda83"
      },
      "source": [
        "n = int(input())  # 과목의 개수\n",
        "score = list(map(int, input().split()))  # 원래 점수\n",
        "score_m = 0   # 최댓값 초기화\n",
        "\n",
        "for i in range(n):\n",
        "  if score[i] > score_m:\n",
        "    score_m = score[i]\n",
        "    i += 1\n",
        "\n",
        "total = []\n",
        "for j in range(n):\n",
        "  result = (score[j]/score_m)*100\n",
        "  total.append(result)\n",
        "  j += 1\n",
        "\n",
        "result = 0\n",
        "for k in range(len(total)):\n",
        "  result = result + total[k]\n",
        "  k += 1\n",
        "print(result/n)"
      ],
      "execution_count": 7,
      "outputs": [
        {
          "output_type": "stream",
          "text": [
            "3\n",
            "90 100 55\n",
            "81.66666666666667\n"
          ],
          "name": "stdout"
        }
      ]
    },
    {
      "cell_type": "markdown",
      "metadata": {
        "id": "_ETzb7oxpSxl"
      },
      "source": [
        "**8958번 OX 문제**\n",
        "\n",
        "\"OOXXOXXOOO\"와 같은 OX퀴즈의 결과가 있다. O는 문제를 맞은 것이고, X는 문제를 틀린 것이다. 문제를 맞은 경우 그 문제의 점수는 그 문제까지 연속된 O의 개수가 된다. OX 퀴즈의 결과가 주어졌을 때, 점수를 구하는 프로그램을 작성하시오."
      ]
    },
    {
      "cell_type": "code",
      "metadata": {
        "colab": {
          "base_uri": "https://localhost:8080/"
        },
        "id": "bk2WhEjBpHlA",
        "outputId": "c8597df7-646c-4faf-ac56-cdbfc53aab58"
      },
      "source": [
        "n = int(input())\n",
        "for i in range(n):\n",
        "  test = input()\n",
        "  score = 0\n",
        "  k = 0\n",
        "  for ox in test:\n",
        "    if ox == 'O':\n",
        "      k += 1\n",
        "      score += k\n",
        "    else:\n",
        "      k = 0\n",
        "  print(score)"
      ],
      "execution_count": 10,
      "outputs": [
        {
          "output_type": "stream",
          "text": [
            "5\n",
            "OOXXOXXOOO\n",
            "10\n",
            "OOXXOOXXOO\n",
            "9\n",
            "OXOXOXOXOXOXOX\n",
            "7\n",
            "OOOOOOOOOO\n",
            "55\n",
            "OOOOXOOOOXOOOOX\n",
            "30\n"
          ],
          "name": "stdout"
        }
      ]
    },
    {
      "cell_type": "markdown",
      "metadata": {
        "id": "6a5dk5yCIfen"
      },
      "source": [
        "**4344번 평균은 넘겠지**\n",
        "\n",
        "첫째 줄에는 테스트 케이스의 개수 C가 주어진다. 둘째 줄부터 각 테이스트 케이스마다 학생의 수 N(1 <= N <= 1000, N은 정수)이 첫 수로 주어지고, 이어서 N명의 점수가 주어진다. 점수는 0보다 크거나 같고, 100보다 작거나 같은 정수이다."
      ]
    },
    {
      "cell_type": "code",
      "metadata": {
        "colab": {
          "base_uri": "https://localhost:8080/"
        },
        "id": "Ce4becncIyjs",
        "outputId": "dc59d404-9482-4131-fc8c-a3972b1380af"
      },
      "source": [
        "c = int(input())\n",
        "for i in range(c):\n",
        "  score = list(map(int, input().split()))\n",
        "  n = score[0]\n",
        "  count = 0\n",
        "  sum_s = 0\n",
        "\n",
        "  for j in range(1, len(score)):\n",
        "    sum_s += score[j]\n",
        "    j += 1\n",
        "  \n",
        "  for i in range(1, len(score)):\n",
        "    if score[i] > sum_s / score[0]:\n",
        "      count += 1\n",
        "  \n",
        "  answer = count / score[0] * 100\n",
        "  print('%.3f'%(answer)+'%')"
      ],
      "execution_count": 4,
      "outputs": [
        {
          "output_type": "stream",
          "text": [
            "5\n",
            "5 50 50 70 80 100\n",
            "40.000%\n",
            "7 100 95 90 80 70 60 50\n",
            "57.143%\n",
            "3 70 90 80\n",
            "33.333%\n",
            "3 70 90 81\n",
            "66.667%\n",
            "9 100 99 98 97 96 95 94 93 91\n",
            "55.556%\n"
          ],
          "name": "stdout"
        }
      ]
    }
  ]
}